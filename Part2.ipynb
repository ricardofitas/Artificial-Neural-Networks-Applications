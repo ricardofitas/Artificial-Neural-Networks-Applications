{
 "cells": [
  {
   "cell_type": "markdown",
   "metadata": {},
   "source": [
    "# Activation functions and Forward Pass"
   ]
  },
  {
   "cell_type": "code",
   "execution_count": 1,
   "metadata": {},
   "outputs": [],
   "source": [
    "import numpy as np\n",
    "import matplotlib.pyplot as plt"
   ]
  },
  {
   "cell_type": "code",
   "execution_count": 2,
   "metadata": {},
   "outputs": [],
   "source": [
    "# Define random inputs for your network\n",
    "\n",
    "np.random.seed(21)\n",
    "\n",
    "x = np.linspace(-20,20,2000).reshape(1000,2)\n",
    "\n",
    "net_shape = [2,2,1]\n",
    "\n",
    "nn = {}\n",
    "\n",
    "nn['w'] = np.random.normal(0,1,size=(net_shape[1],net_shape[0])) \n",
    "nn['W'] = np.random.normal(0,1,size=(net_shape[2],net_shape[1]))\n",
    "\n",
    "nn['b'] = np.random.randn(net_shape[1],1)\n",
    "nn['B'] = np.random.randn(net_shape[2],1)\n",
    "\n",
    "w11 = nn['w'][0][0]\n",
    "w12 = nn['w'][0][1]\n",
    "w21 = nn['w'][1][0]\n",
    "w22 = nn['w'][1][1]\n",
    "\n",
    "b11 = nn['b'][0][0]\n",
    "b12 = nn['b'][1][0]\n",
    "\n",
    "w1  = nn['W'][0][0]\n",
    "w2  = nn['W'][0][1]\n",
    "\n",
    "b1 = nn['B'][0][0]"
   ]
  },
  {
   "cell_type": "code",
   "execution_count": 3,
   "metadata": {},
   "outputs": [],
   "source": [
    "# Define activation functions\n",
    "\n",
    "def sigmoid(x,derivative=False):\n",
    "    \n",
    "    s = 1/(1+np.exp(-x))\n",
    "    \n",
    "    if (derivative==True):\n",
    "        return s*(1-s)\n",
    "    \n",
    "    return s\n",
    "\n",
    "def tanh(x,derivative=False):\n",
    "    \n",
    "    t = ((np.exp(x)-np.exp(-x))/(np.exp(x)+np.exp(-x)))\n",
    "    \n",
    "    if (derivative==True):\n",
    "        \n",
    "        return (1-t**2)\n",
    "    \n",
    "    return t\n",
    "\n",
    "def linear(x,derivative=False):\n",
    "    \n",
    "    if (derivative==True):\n",
    "        return 1\n",
    "    return x\n",
    "\n",
    "def relu(x,derivative=False):\n",
    "    \n",
    "    r = np.maximum(0,x)\n",
    "    \n",
    "    if (derivative==True):\n",
    "        \n",
    "        return 1*(r>0)\n",
    "    \n",
    "    return r\n",
    "    "
   ]
  },
  {
   "cell_type": "code",
   "execution_count": 4,
   "metadata": {},
   "outputs": [],
   "source": [
    "# Define forward pass function\n",
    "\n",
    "def forward_pass(inp,nn,activation):\n",
    "    \n",
    "    if (activation==relu):\n",
    "        activation1 = relu\n",
    "        activation2 = linear\n",
    "    else:\n",
    "        activation1=activation\n",
    "        activation2=activation\n",
    "        \n",
    "    #Hidden layer computations\n",
    "    nn['z'] = np.matmul(nn['w'],inp)+nn['b']\n",
    "    nn['a'] = activation1(nn['z'])\n",
    "    \n",
    "    # Output layer computations\n",
    "    nn['Z'] = np.matmul(nn['W'],nn['a'])+nn['B']\n",
    "    nn['A'] = activation2(nn['Z'])\n",
    "    \n",
    "    return nn\n",
    "\n",
    "def forward_passtask(inp,activation):\n",
    "    \n",
    "    if (activation==relu):\n",
    "        activation1 = relu\n",
    "        activation2 = linear\n",
    "    else:\n",
    "        activation1=activation\n",
    "        activation2=activation\n",
    "        \n",
    "        \n",
    "    # Hidden layer computations\n",
    "    z11 = (w11*inp[0,0]+w12*inp[1,0])+b11\n",
    "    z12 = (w21*inp[0,0]+w22*inp[1,0])+b12\n",
    "    \n",
    "    a11 = activation1(z11)\n",
    "    a12 = activation1(z12)\n",
    "    \n",
    "    # Output layer computations\n",
    "    z1  = a11*w1+a12*w2+b1\n",
    "    o   = activation(z1)\n",
    "    \n",
    "    return z11,z12,a11,a12,z1,o    \n",
    "    \n",
    "    "
   ]
  },
  {
   "cell_type": "code",
   "execution_count": 5,
   "metadata": {},
   "outputs": [
    {
     "data": {
      "text/plain": [
       "<matplotlib.collections.PathCollection at 0x1c9faf34a08>"
      ]
     },
     "execution_count": 5,
     "metadata": {},
     "output_type": "execute_result"
    },
    {
     "data": {
      "image/png": "[encoded data removed]",
      "text/plain": [
       "<Figure size 432x288 with 1 Axes>"
      ]
     },
     "metadata": {
      "needs_background": "light"
     },
     "output_type": "display_data"
    }
   ],
   "source": [
    "# Call the functions\n",
    "nn = forward_pass(x.T,nn,sigmoid)\n",
    "plt.scatter(nn['z'][0,:],nn['a'][0,:])"
   ]
  },
  {
   "cell_type": "code",
   "execution_count": 6,
   "metadata": {},
   "outputs": [
    {
     "data": {
      "image/png": "[encoded data removed]",
      "text/plain": [
       "<Figure size 432x288 with 1 Axes>"
      ]
     },
     "metadata": {
      "needs_background": "light"
     },
     "output_type": "display_data"
    }
   ],
   "source": [
    "# Compare outputs\n",
    "for i in range(len(x)):\n",
    "    inp = np.array([[x[i,0]],[x[i,1]]])\n",
    "    z11,z12,a11,a12,z1,o = forward_passtask(inp,tanh)\n",
    "    plt.scatter(z11,a11)"
   ]
  }
 ],
 "metadata": {
  "kernelspec": {
   "display_name": "Python 3",
   "language": "python",
   "name": "python3"
  },
  "language_info": {
   "codemirror_mode": {
    "name": "ipython",
    "version": 3
   },
   "file_extension": ".py",
   "mimetype": "text/x-python",
   "name": "python",
   "nbconvert_exporter": "python",
   "pygments_lexer": "ipython3",
   "version": "3.7.9"
  }
 },
 "nbformat": 4,
 "nbformat_minor": 2
}
