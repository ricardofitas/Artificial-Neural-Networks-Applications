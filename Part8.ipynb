{
 "cells": [
  {
   "cell_type": "markdown",
   "metadata": {},
   "source": [
    "### Convolutional Neural Networks with Numpy"
   ]
  },
  {
   "cell_type": "code",
   "execution_count": 1,
   "metadata": {},
   "outputs": [],
   "source": [
    "import numpy as np"
   ]
  },
  {
   "cell_type": "code",
   "execution_count": 2,
   "metadata": {},
   "outputs": [],
   "source": [
    "# Input vector \n",
    "\n",
    "inp       = np.array([[0, 0, 0, 0, 0], \n",
    "                      [0, 0, 1, 2, 0], \n",
    "                      [0, 3, 4, 5, 0], \n",
    "                      [0, 6, 7, 8, 0], \n",
    "                      [0, 0, 0, 0, 0]])\n",
    "\n",
    "kernel    = np.array([[0, 1],\n",
    "                      [2, 3]])\n",
    "\n",
    "stride    = (1,1)\n",
    "\n",
    "pool_size = (2,2)"
   ]
  },
  {
   "cell_type": "code",
   "execution_count": 3,
   "metadata": {},
   "outputs": [],
   "source": [
    "def relu(inp):\n",
    "    return np.maximum(0, inp)"
   ]
  },
  {
   "cell_type": "code",
   "execution_count": 4,
   "metadata": {},
   "outputs": [],
   "source": [
    "def conv_1(inp, kernel,s):\n",
    "    \n",
    "    r   = []\n",
    "    c   = []  \n",
    "    s1  = 0\n",
    "    s2  = 0\n",
    "    \n",
    "    row = int((inp.shape[0]-kernel.shape[0]+s[0])/s[0])\n",
    "    col = int((inp.shape[1]-kernel.shape[1]+s[1])/s[1])\n",
    "    \n",
    "    for j in range(row):\n",
    "        \n",
    "        for i in range(col):\n",
    "            \n",
    "            r.append(np.sum(inp[s2:s2+kernel.shape[0],s1:s1+kernel.shape[1]]*kernel))\n",
    "            s1 = s1 + s[1]\n",
    "        c.append(r)\n",
    "        r  = []\n",
    "        s2 = s2 + s[0]\n",
    "        s1 = 0\n",
    "    \n",
    "    return np.array(c)\n",
    "    \n",
    "    "
   ]
  },
  {
   "cell_type": "code",
   "execution_count": 5,
   "metadata": {},
   "outputs": [],
   "source": [
    "def max_pool(inp,pool_size,s):\n",
    "    \n",
    "    r   = []\n",
    "    c   = []  \n",
    "    s1  = 0\n",
    "    s2  = 0\n",
    "    \n",
    "    row = int((inp.shape[0]-pool_size[0]+s[0])/s[0])\n",
    "    col = int((inp.shape[1]-pool_size[1]+s[1])/s[1])\n",
    "\n",
    "    for j in range(row):\n",
    "\n",
    "        for i in range(col):\n",
    "            r.append(np.amax(inp[s2:s2+pool_size[0],s1:s1+pool_size[1]]))\n",
    "            s1 = s1 + s[1]\n",
    "        \n",
    "        c.append(r)\n",
    "        r  = []\n",
    "        s2 = s2 + s[0]\n",
    "        s1 = 0\n",
    "    \n",
    "    return np.array(c)"
   ]
  },
  {
   "cell_type": "code",
   "execution_count": 6,
   "metadata": {},
   "outputs": [],
   "source": [
    "def conv_2(inp, kernel, s):\n",
    "    \n",
    "    r     = []\n",
    "    c     = [] \n",
    "    s1    = 0\n",
    "    s2    = 0\n",
    "    dummy = 0\n",
    "\n",
    "    for j in range(int((inp.shape[1]-kernel.shape[1]+s)/s)):\n",
    "        for i in range(int((inp.shape[1]-kernel.shape[1]+s)/s)):\n",
    "            for k in range(inp.shape[2]): \n",
    "                dummy = dummy + np.sum(inp[s2:s2+kernel.shape[0],s1:s1+kernel.shape[1],k:k+1]*kernel[:,:,k:k+1])\n",
    "            r.append(dummy)\n",
    "\n",
    "            s1    = s1 + s[1]\n",
    "            dummy = 0\n",
    "        \n",
    "        c.append(r)\n",
    "        r  = []\n",
    "        s2 = s2 + s[0]\n",
    "        s1 = 0\n",
    "        \n",
    "    return np.array(c)"
   ]
  },
  {
   "cell_type": "code",
   "execution_count": 7,
   "metadata": {},
   "outputs": [],
   "source": [
    "out   = conv_1(inp, kernel, stride)\n",
    "out   = relu(out)\n",
    "out = max_pool(out, pool_size, stride)"
   ]
  }
 ],
 "metadata": {
  "kernelspec": {
   "display_name": "Python 3",
   "language": "python",
   "name": "python3"
  },
  "language_info": {
   "codemirror_mode": {
    "name": "ipython",
    "version": 3
   },
   "file_extension": ".py",
   "mimetype": "text/x-python",
   "name": "python",
   "nbconvert_exporter": "python",
   "pygments_lexer": "ipython3",
   "version": "3.7.9"
  }
 },
 "nbformat": 4,
 "nbformat_minor": 4
}
